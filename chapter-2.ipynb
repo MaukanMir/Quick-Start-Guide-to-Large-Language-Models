{
 "cells": [
  {
   "cell_type": "markdown",
   "metadata": {},
   "source": [
    "# Semantic Search with LLMs"
   ]
  },
  {
   "cell_type": "markdown",
   "metadata": {},
   "source": [
    "## Text embeddings\n",
    "### Text embeddings are a way to represent words or phrases as machine-readable numerical vectors in a multidimensional space, generally based on their contextual meaning. The idea is that if two phrases are similar (we will explore the word “similar” in more detail later on in this chapter), then the vectors that represent those phrases should be close together by some measure (like Euclidean distance), and vice versa."
   ]
  },
  {
   "cell_type": "markdown",
   "metadata": {},
   "source": [
    "## Asymmetric Semantic Search\n",
    "\n",
    "### A semantic search system can understand the meaning and context of your search query and match it against the meaning and context of the documents that are available to retrieve. This kind of system can find relevant results in a database without having to rely on exact keyword or n-gram matching; instead, it relies on a pre-trained LLM to understand the nuances of the query and the documents \n",
    "\n",
    "### The asymmetric part of asymmetric semantic search refers to the fact that there is an imbalance between the semantic information (basically the size) of the input query and the documents/information that the search system has to retrieve. Basically, one of them is much shorter than the other. For example, a search system trying to match “magic the gathering cards” to lengthy paragraphs of item descriptions on a marketplace would be considered asymmetric. The four-word search query has much less information than the paragraphs but nonetheless is what we have to compare.\n",
    "\n",
    "### Asymmetric semantic search systems can produce very accurate and relevant search results, even if you don’t use exactly the right words in your search. They rely on the learnings of LLMs rather than the user being able to know exactly which needle to search for in the haystack.\n",
    "\n",
    "They can be overly sensitive to small variations in text, such as differences in capitalization or punctuation.\n",
    "\n",
    "They struggle with nuanced concepts, such as sarcasm or irony, that rely on localized cultural knowledge.\n",
    "\n",
    "They can be more computationally expensive to implement and maintain than the traditional method, especially when launching a home-grown system with many open-source components."
   ]
  }
 ],
 "metadata": {
  "language_info": {
   "name": "python"
  }
 },
 "nbformat": 4,
 "nbformat_minor": 2
}
